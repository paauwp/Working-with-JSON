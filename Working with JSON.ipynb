{
 "cells": [
  {
   "cell_type": "markdown",
   "metadata": {},
   "source": [
    "Find the Dataset and explanation at: https://www.kaggle.com/tboyle10/working-with-json-files"
   ]
  },
  {
   "cell_type": "code",
   "execution_count": 1,
   "metadata": {},
   "outputs": [],
   "source": [
    "import numpy as np\n",
    "import pandas as pd\n",
    "import ijson\n",
    "from pandas.io.json import json_normalize"
   ]
  },
  {
   "cell_type": "code",
   "execution_count": 5,
   "metadata": {},
   "outputs": [
    {
     "name": "stdout",
     "output_type": "stream",
     "text": [
      "Couldn't find program: 'bash'\n"
     ]
    }
   ],
   "source": [
    "%%bash\n",
    "head roam_prescription_based_prediction.json"
   ]
  },
  {
   "cell_type": "code",
   "execution_count": 6,
   "metadata": {},
   "outputs": [],
   "source": [
    "# read in data\n",
    "raw_data = pd.read_json(\"roam_prescription_based_prediction.jsonl\", \n",
    "                        lines=True, \n",
    "                        orient='columns')"
   ]
  },
  {
   "cell_type": "code",
   "execution_count": 9,
   "metadata": {},
   "outputs": [
    {
     "name": "stdout",
     "output_type": "stream",
     "text": [
      "(239930, 3)\n"
     ]
    }
   ],
   "source": [
    "print(raw_data.shape)"
   ]
  },
  {
   "cell_type": "code",
   "execution_count": 20,
   "metadata": {},
   "outputs": [
    {
     "data": {
      "text/html": [
       "<div>\n",
       "<style scoped>\n",
       "    .dataframe tbody tr th:only-of-type {\n",
       "        vertical-align: middle;\n",
       "    }\n",
       "\n",
       "    .dataframe tbody tr th {\n",
       "        vertical-align: top;\n",
       "    }\n",
       "\n",
       "    .dataframe thead th {\n",
       "        text-align: right;\n",
       "    }\n",
       "</style>\n",
       "<table border=\"1\" class=\"dataframe\">\n",
       "  <thead>\n",
       "    <tr style=\"text-align: right;\">\n",
       "      <th></th>\n",
       "      <th>cms_prescription_counts</th>\n",
       "      <th>npi</th>\n",
       "      <th>provider_variables</th>\n",
       "    </tr>\n",
       "  </thead>\n",
       "  <tbody>\n",
       "    <tr>\n",
       "      <th>0</th>\n",
       "      <td>{'DOXAZOSIN MESYLATE': 26, 'MIDODRINE HCL': 12...</td>\n",
       "      <td>1295763035</td>\n",
       "      <td>{'settlement_type': 'non-urban', 'generic_rx_c...</td>\n",
       "    </tr>\n",
       "  </tbody>\n",
       "</table>\n",
       "</div>"
      ],
      "text/plain": [
       "                             cms_prescription_counts         npi  \\\n",
       "0  {'DOXAZOSIN MESYLATE': 26, 'MIDODRINE HCL': 12...  1295763035   \n",
       "\n",
       "                                  provider_variables  \n",
       "0  {'settlement_type': 'non-urban', 'generic_rx_c...  "
      ]
     },
     "execution_count": 20,
     "metadata": {},
     "output_type": "execute_result"
    }
   ],
   "source": [
    "raw_data.head(1)"
   ]
  },
  {
   "cell_type": "code",
   "execution_count": 10,
   "metadata": {},
   "outputs": [
    {
     "data": {
      "text/html": [
       "<div>\n",
       "<style scoped>\n",
       "    .dataframe tbody tr th:only-of-type {\n",
       "        vertical-align: middle;\n",
       "    }\n",
       "\n",
       "    .dataframe tbody tr th {\n",
       "        vertical-align: top;\n",
       "    }\n",
       "\n",
       "    .dataframe thead th {\n",
       "        text-align: right;\n",
       "    }\n",
       "</style>\n",
       "<table border=\"1\" class=\"dataframe\">\n",
       "  <thead>\n",
       "    <tr style=\"text-align: right;\">\n",
       "      <th></th>\n",
       "      <th>brand_name_rx_count</th>\n",
       "      <th>gender</th>\n",
       "      <th>generic_rx_count</th>\n",
       "      <th>region</th>\n",
       "      <th>settlement_type</th>\n",
       "      <th>specialty</th>\n",
       "      <th>years_practicing</th>\n",
       "    </tr>\n",
       "  </thead>\n",
       "  <tbody>\n",
       "    <tr>\n",
       "      <th>0</th>\n",
       "      <td>384</td>\n",
       "      <td>M</td>\n",
       "      <td>2287</td>\n",
       "      <td>South</td>\n",
       "      <td>non-urban</td>\n",
       "      <td>Nephrology</td>\n",
       "      <td>7</td>\n",
       "    </tr>\n",
       "    <tr>\n",
       "      <th>1</th>\n",
       "      <td>0</td>\n",
       "      <td>M</td>\n",
       "      <td>103</td>\n",
       "      <td>South</td>\n",
       "      <td>non-urban</td>\n",
       "      <td>General Practice</td>\n",
       "      <td>7</td>\n",
       "    </tr>\n",
       "    <tr>\n",
       "      <th>2</th>\n",
       "      <td>0</td>\n",
       "      <td>M</td>\n",
       "      <td>112</td>\n",
       "      <td>Midwest</td>\n",
       "      <td>non-urban</td>\n",
       "      <td>General Practice</td>\n",
       "      <td>7</td>\n",
       "    </tr>\n",
       "    <tr>\n",
       "      <th>3</th>\n",
       "      <td>0</td>\n",
       "      <td>M</td>\n",
       "      <td>63</td>\n",
       "      <td>South</td>\n",
       "      <td>non-urban</td>\n",
       "      <td>General Practice</td>\n",
       "      <td>7</td>\n",
       "    </tr>\n",
       "    <tr>\n",
       "      <th>4</th>\n",
       "      <td>316</td>\n",
       "      <td>M</td>\n",
       "      <td>1035</td>\n",
       "      <td>West</td>\n",
       "      <td>non-urban</td>\n",
       "      <td>Nephrology</td>\n",
       "      <td>6</td>\n",
       "    </tr>\n",
       "  </tbody>\n",
       "</table>\n",
       "</div>"
      ],
      "text/plain": [
       "   brand_name_rx_count gender  generic_rx_count   region settlement_type  \\\n",
       "0                  384      M              2287    South       non-urban   \n",
       "1                    0      M               103    South       non-urban   \n",
       "2                    0      M               112  Midwest       non-urban   \n",
       "3                    0      M                63    South       non-urban   \n",
       "4                  316      M              1035     West       non-urban   \n",
       "\n",
       "          specialty  years_practicing  \n",
       "0        Nephrology                 7  \n",
       "1  General Practice                 7  \n",
       "2  General Practice                 7  \n",
       "3  General Practice                 7  \n",
       "4        Nephrology                 6  "
      ]
     },
     "execution_count": 10,
     "metadata": {},
     "output_type": "execute_result"
    }
   ],
   "source": [
    "provider = pd.DataFrame([md for md in raw_data.provider_variables])\n",
    "provider.head()"
   ]
  },
  {
   "cell_type": "code",
   "execution_count": 11,
   "metadata": {},
   "outputs": [],
   "source": [
    "raw_data = pd.read_json(\"lax.json\", lines=True, orient='columns')"
   ]
  },
  {
   "cell_type": "code",
   "execution_count": 12,
   "metadata": {},
   "outputs": [
    {
     "data": {
      "text/html": [
       "<div>\n",
       "<style scoped>\n",
       "    .dataframe tbody tr th:only-of-type {\n",
       "        vertical-align: middle;\n",
       "    }\n",
       "\n",
       "    .dataframe tbody tr th {\n",
       "        vertical-align: top;\n",
       "    }\n",
       "\n",
       "    .dataframe thead th {\n",
       "        text-align: right;\n",
       "    }\n",
       "</style>\n",
       "<table border=\"1\" class=\"dataframe\">\n",
       "  <thead>\n",
       "    <tr style=\"text-align: right;\">\n",
       "      <th></th>\n",
       "      <th>attribution</th>\n",
       "      <th>averageRating</th>\n",
       "      <th>category</th>\n",
       "      <th>columns</th>\n",
       "      <th>createdAt</th>\n",
       "      <th>description</th>\n",
       "      <th>displayType</th>\n",
       "      <th>downloadCount</th>\n",
       "      <th>flags</th>\n",
       "      <th>grants</th>\n",
       "      <th>...</th>\n",
       "      <th>rowClass</th>\n",
       "      <th>rowsUpdatedAt</th>\n",
       "      <th>rowsUpdatedBy</th>\n",
       "      <th>tableAuthor</th>\n",
       "      <th>tableId</th>\n",
       "      <th>tags</th>\n",
       "      <th>totalTimesRated</th>\n",
       "      <th>viewCount</th>\n",
       "      <th>viewLastModified</th>\n",
       "      <th>viewType</th>\n",
       "    </tr>\n",
       "  </thead>\n",
       "  <tbody>\n",
       "    <tr>\n",
       "      <th>0</th>\n",
       "      <td>Los Angeles World Airports</td>\n",
       "      <td>0</td>\n",
       "      <td>A Prosperous City</td>\n",
       "      <td>[{'position': 1, 'format': {}, 'tableColumnId'...</td>\n",
       "      <td>1401379158</td>\n",
       "      <td>Number of Flights That Occurred at the Airport</td>\n",
       "      <td>table</td>\n",
       "      <td>601514</td>\n",
       "      <td>[default, restorable, restorePossibleForType]</td>\n",
       "      <td>[{'flags': ['public'], 'type': 'viewer', 'inhe...</td>\n",
       "      <td>...</td>\n",
       "      <td></td>\n",
       "      <td>1557932721</td>\n",
       "      <td>gudt-ccne</td>\n",
       "      <td>{'profileImageUrlLarge': '/api/users/gudt-ccne...</td>\n",
       "      <td>1598744</td>\n",
       "      <td>[lax, airport, terminal, flight, carrier]</td>\n",
       "      <td>0</td>\n",
       "      <td>736</td>\n",
       "      <td>1511966578</td>\n",
       "      <td>tabular</td>\n",
       "    </tr>\n",
       "  </tbody>\n",
       "</table>\n",
       "<p>1 rows × 39 columns</p>\n",
       "</div>"
      ],
      "text/plain": [
       "                  attribution  averageRating           category  \\\n",
       "0  Los Angeles World Airports              0  A Prosperous City   \n",
       "\n",
       "                                             columns   createdAt  \\\n",
       "0  [{'position': 1, 'format': {}, 'tableColumnId'...  1401379158   \n",
       "\n",
       "                                      description displayType  downloadCount  \\\n",
       "0  Number of Flights That Occurred at the Airport       table         601514   \n",
       "\n",
       "                                           flags  \\\n",
       "0  [default, restorable, restorePossibleForType]   \n",
       "\n",
       "                                              grants    ...     rowClass  \\\n",
       "0  [{'flags': ['public'], 'type': 'viewer', 'inhe...    ...                \n",
       "\n",
       "   rowsUpdatedAt rowsUpdatedBy  \\\n",
       "0     1557932721     gudt-ccne   \n",
       "\n",
       "                                         tableAuthor  tableId  \\\n",
       "0  {'profileImageUrlLarge': '/api/users/gudt-ccne...  1598744   \n",
       "\n",
       "                                        tags totalTimesRated viewCount  \\\n",
       "0  [lax, airport, terminal, flight, carrier]               0       736   \n",
       "\n",
       "   viewLastModified  viewType  \n",
       "0        1511966578   tabular  \n",
       "\n",
       "[1 rows x 39 columns]"
      ]
     },
     "execution_count": 12,
     "metadata": {},
     "output_type": "execute_result"
    }
   ],
   "source": [
    "raw_data.head()"
   ]
  },
  {
   "cell_type": "code",
   "execution_count": 19,
   "metadata": {},
   "outputs": [
    {
     "data": {
      "text/html": [
       "<div>\n",
       "<style scoped>\n",
       "    .dataframe tbody tr th:only-of-type {\n",
       "        vertical-align: middle;\n",
       "    }\n",
       "\n",
       "    .dataframe tbody tr th {\n",
       "        vertical-align: top;\n",
       "    }\n",
       "\n",
       "    .dataframe thead th {\n",
       "        text-align: right;\n",
       "    }\n",
       "</style>\n",
       "<table border=\"1\" class=\"dataframe\">\n",
       "  <thead>\n",
       "    <tr style=\"text-align: right;\">\n",
       "      <th></th>\n",
       "      <th>0</th>\n",
       "      <th>1</th>\n",
       "      <th>2</th>\n",
       "    </tr>\n",
       "  </thead>\n",
       "  <tbody>\n",
       "    <tr>\n",
       "      <th>0</th>\n",
       "      <td>default</td>\n",
       "      <td>restorable</td>\n",
       "      <td>restorePossibleForType</td>\n",
       "    </tr>\n",
       "  </tbody>\n",
       "</table>\n",
       "</div>"
      ],
      "text/plain": [
       "         0           1                       2\n",
       "0  default  restorable  restorePossibleForType"
      ]
     },
     "execution_count": 19,
     "metadata": {},
     "output_type": "execute_result"
    }
   ],
   "source": [
    "raw_data.flags.apply(pd.Series)"
   ]
  },
  {
   "cell_type": "code",
   "execution_count": 20,
   "metadata": {},
   "outputs": [],
   "source": [
    "df2 = raw_data.flags.apply(pd.Series)"
   ]
  },
  {
   "cell_type": "code",
   "execution_count": 21,
   "metadata": {},
   "outputs": [
    {
     "data": {
      "text/html": [
       "<div>\n",
       "<style scoped>\n",
       "    .dataframe tbody tr th:only-of-type {\n",
       "        vertical-align: middle;\n",
       "    }\n",
       "\n",
       "    .dataframe tbody tr th {\n",
       "        vertical-align: top;\n",
       "    }\n",
       "\n",
       "    .dataframe thead th {\n",
       "        text-align: right;\n",
       "    }\n",
       "</style>\n",
       "<table border=\"1\" class=\"dataframe\">\n",
       "  <thead>\n",
       "    <tr style=\"text-align: right;\">\n",
       "      <th></th>\n",
       "      <th>0</th>\n",
       "      <th>1</th>\n",
       "      <th>2</th>\n",
       "    </tr>\n",
       "  </thead>\n",
       "  <tbody>\n",
       "    <tr>\n",
       "      <th>0</th>\n",
       "      <td>default</td>\n",
       "      <td>restorable</td>\n",
       "      <td>restorePossibleForType</td>\n",
       "    </tr>\n",
       "  </tbody>\n",
       "</table>\n",
       "</div>"
      ],
      "text/plain": [
       "         0           1                       2\n",
       "0  default  restorable  restorePossibleForType"
      ]
     },
     "execution_count": 21,
     "metadata": {},
     "output_type": "execute_result"
    }
   ],
   "source": [
    "df2.head()"
   ]
  },
  {
   "cell_type": "code",
   "execution_count": 23,
   "metadata": {},
   "outputs": [],
   "source": [
    "pd4 = raw_data.grants.apply(pd.Series)"
   ]
  },
  {
   "cell_type": "code",
   "execution_count": 24,
   "metadata": {},
   "outputs": [
    {
     "data": {
      "text/html": [
       "<div>\n",
       "<style scoped>\n",
       "    .dataframe tbody tr th:only-of-type {\n",
       "        vertical-align: middle;\n",
       "    }\n",
       "\n",
       "    .dataframe tbody tr th {\n",
       "        vertical-align: top;\n",
       "    }\n",
       "\n",
       "    .dataframe thead th {\n",
       "        text-align: right;\n",
       "    }\n",
       "</style>\n",
       "<table border=\"1\" class=\"dataframe\">\n",
       "  <thead>\n",
       "    <tr style=\"text-align: right;\">\n",
       "      <th></th>\n",
       "      <th>0</th>\n",
       "    </tr>\n",
       "  </thead>\n",
       "  <tbody>\n",
       "    <tr>\n",
       "      <th>0</th>\n",
       "      <td>{'flags': ['public'], 'type': 'viewer', 'inher...</td>\n",
       "    </tr>\n",
       "  </tbody>\n",
       "</table>\n",
       "</div>"
      ],
      "text/plain": [
       "                                                   0\n",
       "0  {'flags': ['public'], 'type': 'viewer', 'inher..."
      ]
     },
     "execution_count": 24,
     "metadata": {},
     "output_type": "execute_result"
    }
   ],
   "source": [
    "pd4.head()"
   ]
  },
  {
   "cell_type": "code",
   "execution_count": 25,
   "metadata": {},
   "outputs": [
    {
     "data": {
      "text/html": [
       "<div>\n",
       "<style scoped>\n",
       "    .dataframe tbody tr th:only-of-type {\n",
       "        vertical-align: middle;\n",
       "    }\n",
       "\n",
       "    .dataframe tbody tr th {\n",
       "        vertical-align: top;\n",
       "    }\n",
       "\n",
       "    .dataframe thead th {\n",
       "        text-align: right;\n",
       "    }\n",
       "</style>\n",
       "<table border=\"1\" class=\"dataframe\">\n",
       "  <thead>\n",
       "    <tr style=\"text-align: right;\">\n",
       "      <th></th>\n",
       "      <th>0</th>\n",
       "    </tr>\n",
       "  </thead>\n",
       "  <tbody>\n",
       "    <tr>\n",
       "      <th>0</th>\n",
       "      <td>{'flags': ['public'], 'type': 'viewer', 'inher...</td>\n",
       "    </tr>\n",
       "  </tbody>\n",
       "</table>\n",
       "</div>"
      ],
      "text/plain": [
       "                                                   0\n",
       "0  {'flags': ['public'], 'type': 'viewer', 'inher..."
      ]
     },
     "execution_count": 25,
     "metadata": {},
     "output_type": "execute_result"
    }
   ],
   "source": [
    "pd4.apply(pd.Series)"
   ]
  },
  {
   "cell_type": "code",
   "execution_count": 26,
   "metadata": {},
   "outputs": [
    {
     "name": "stdout",
     "output_type": "stream",
     "text": [
      "                                                   0\n",
      "0  {'flags': ['public'], 'type': 'viewer', 'inher...\n"
     ]
    }
   ],
   "source": [
    "print(pd4)"
   ]
  },
  {
   "cell_type": "code",
   "execution_count": null,
   "metadata": {},
   "outputs": [],
   "source": []
  }
 ],
 "metadata": {
  "kernelspec": {
   "display_name": "Python 3",
   "language": "python",
   "name": "python3"
  },
  "language_info": {
   "codemirror_mode": {
    "name": "ipython",
    "version": 3
   },
   "file_extension": ".py",
   "mimetype": "text/x-python",
   "name": "python",
   "nbconvert_exporter": "python",
   "pygments_lexer": "ipython3",
   "version": "3.7.1"
  }
 },
 "nbformat": 4,
 "nbformat_minor": 2
}
