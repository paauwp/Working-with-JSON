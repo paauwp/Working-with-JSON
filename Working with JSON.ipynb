{
 "cells": [
  {
   "cell_type": "markdown",
   "metadata": {},
   "source": [
    "Find the Dataset and explanation at: https://www.kaggle.com/tboyle10/working-with-json-files"
   ]
  },
  {
   "cell_type": "code",
   "execution_count": 1,
   "metadata": {},
   "outputs": [],
   "source": [
    "import numpy as np\n",
    "import pandas as pd\n",
    "import ijson\n",
    "from pandas.io.json import json_normalize"
   ]
  },
  {
   "cell_type": "code",
   "execution_count": 5,
   "metadata": {},
   "outputs": [
    {
     "name": "stdout",
     "output_type": "stream",
     "text": [
      "Couldn't find program: 'bash'\n"
     ]
    }
   ],
   "source": [
    "%%bash\n",
    "head roam_prescription_based_prediction.json"
   ]
  },
  {
   "cell_type": "code",
   "execution_count": 6,
   "metadata": {},
   "outputs": [],
   "source": [
    "# read in data\n",
    "raw_data = pd.read_json(\"roam_prescription_based_prediction.jsonl\", \n",
    "                        lines=True, \n",
    "                        orient='columns')"
   ]
  },
  {
   "cell_type": "code",
   "execution_count": 9,
   "metadata": {},
   "outputs": [
    {
     "name": "stdout",
     "output_type": "stream",
     "text": [
      "(239930, 3)\n"
     ]
    }
   ],
   "source": [
    "print(raw_data.shape)"
   ]
  },
  {
   "cell_type": "code",
   "execution_count": 20,
   "metadata": {},
   "outputs": [
    {
     "data": {
      "text/html": [
       "<div>\n",
       "<style scoped>\n",
       "    .dataframe tbody tr th:only-of-type {\n",
       "        vertical-align: middle;\n",
       "    }\n",
       "\n",
       "    .dataframe tbody tr th {\n",
       "        vertical-align: top;\n",
       "    }\n",
       "\n",
       "    .dataframe thead th {\n",
       "        text-align: right;\n",
       "    }\n",
       "</style>\n",
       "<table border=\"1\" class=\"dataframe\">\n",
       "  <thead>\n",
       "    <tr style=\"text-align: right;\">\n",
       "      <th></th>\n",
       "      <th>cms_prescription_counts</th>\n",
       "      <th>npi</th>\n",
       "      <th>provider_variables</th>\n",
       "    </tr>\n",
       "  </thead>\n",
       "  <tbody>\n",
       "    <tr>\n",
       "      <th>0</th>\n",
       "      <td>{'DOXAZOSIN MESYLATE': 26, 'MIDODRINE HCL': 12...</td>\n",
       "      <td>1295763035</td>\n",
       "      <td>{'settlement_type': 'non-urban', 'generic_rx_c...</td>\n",
       "    </tr>\n",
       "  </tbody>\n",
       "</table>\n",
       "</div>"
      ],
      "text/plain": [
       "                             cms_prescription_counts         npi  \\\n",
       "0  {'DOXAZOSIN MESYLATE': 26, 'MIDODRINE HCL': 12...  1295763035   \n",
       "\n",
       "                                  provider_variables  \n",
       "0  {'settlement_type': 'non-urban', 'generic_rx_c...  "
      ]
     },
     "execution_count": 20,
     "metadata": {},
     "output_type": "execute_result"
    }
   ],
   "source": [
    "raw_data.head(1)"
   ]
  },
  {
   "cell_type": "code",
   "execution_count": 10,
   "metadata": {},
   "outputs": [
    {
     "data": {
      "text/html": [
       "<div>\n",
       "<style scoped>\n",
       "    .dataframe tbody tr th:only-of-type {\n",
       "        vertical-align: middle;\n",
       "    }\n",
       "\n",
       "    .dataframe tbody tr th {\n",
       "        vertical-align: top;\n",
       "    }\n",
       "\n",
       "    .dataframe thead th {\n",
       "        text-align: right;\n",
       "    }\n",
       "</style>\n",
       "<table border=\"1\" class=\"dataframe\">\n",
       "  <thead>\n",
       "    <tr style=\"text-align: right;\">\n",
       "      <th></th>\n",
       "      <th>brand_name_rx_count</th>\n",
       "      <th>gender</th>\n",
       "      <th>generic_rx_count</th>\n",
       "      <th>region</th>\n",
       "      <th>settlement_type</th>\n",
       "      <th>specialty</th>\n",
       "      <th>years_practicing</th>\n",
       "    </tr>\n",
       "  </thead>\n",
       "  <tbody>\n",
       "    <tr>\n",
       "      <th>0</th>\n",
       "      <td>384</td>\n",
       "      <td>M</td>\n",
       "      <td>2287</td>\n",
       "      <td>South</td>\n",
       "      <td>non-urban</td>\n",
       "      <td>Nephrology</td>\n",
       "      <td>7</td>\n",
       "    </tr>\n",
       "    <tr>\n",
       "      <th>1</th>\n",
       "      <td>0</td>\n",
       "      <td>M</td>\n",
       "      <td>103</td>\n",
       "      <td>South</td>\n",
       "      <td>non-urban</td>\n",
       "      <td>General Practice</td>\n",
       "      <td>7</td>\n",
       "    </tr>\n",
       "    <tr>\n",
       "      <th>2</th>\n",
       "      <td>0</td>\n",
       "      <td>M</td>\n",
       "      <td>112</td>\n",
       "      <td>Midwest</td>\n",
       "      <td>non-urban</td>\n",
       "      <td>General Practice</td>\n",
       "      <td>7</td>\n",
       "    </tr>\n",
       "    <tr>\n",
       "      <th>3</th>\n",
       "      <td>0</td>\n",
       "      <td>M</td>\n",
       "      <td>63</td>\n",
       "      <td>South</td>\n",
       "      <td>non-urban</td>\n",
       "      <td>General Practice</td>\n",
       "      <td>7</td>\n",
       "    </tr>\n",
       "    <tr>\n",
       "      <th>4</th>\n",
       "      <td>316</td>\n",
       "      <td>M</td>\n",
       "      <td>1035</td>\n",
       "      <td>West</td>\n",
       "      <td>non-urban</td>\n",
       "      <td>Nephrology</td>\n",
       "      <td>6</td>\n",
       "    </tr>\n",
       "  </tbody>\n",
       "</table>\n",
       "</div>"
      ],
      "text/plain": [
       "   brand_name_rx_count gender  generic_rx_count   region settlement_type  \\\n",
       "0                  384      M              2287    South       non-urban   \n",
       "1                    0      M               103    South       non-urban   \n",
       "2                    0      M               112  Midwest       non-urban   \n",
       "3                    0      M                63    South       non-urban   \n",
       "4                  316      M              1035     West       non-urban   \n",
       "\n",
       "          specialty  years_practicing  \n",
       "0        Nephrology                 7  \n",
       "1  General Practice                 7  \n",
       "2  General Practice                 7  \n",
       "3  General Practice                 7  \n",
       "4        Nephrology                 6  "
      ]
     },
     "execution_count": 10,
     "metadata": {},
     "output_type": "execute_result"
    }
   ],
   "source": [
    "provider = pd.DataFrame([md for md in raw_data.provider_variables])\n",
    "provider.head()"
   ]
  },
  {
   "cell_type": "code",
   "execution_count": 2,
   "metadata": {},
   "outputs": [],
   "source": [
    "raw_data = pd.read_json(\"lax.json\", lines=True, orient='columns')"
   ]
  },
  {
   "cell_type": "code",
   "execution_count": 3,
   "metadata": {},
   "outputs": [
    {
     "data": {
      "text/html": [
       "<div>\n",
       "<style scoped>\n",
       "    .dataframe tbody tr th:only-of-type {\n",
       "        vertical-align: middle;\n",
       "    }\n",
       "\n",
       "    .dataframe tbody tr th {\n",
       "        vertical-align: top;\n",
       "    }\n",
       "\n",
       "    .dataframe thead th {\n",
       "        text-align: right;\n",
       "    }\n",
       "</style>\n",
       "<table border=\"1\" class=\"dataframe\">\n",
       "  <thead>\n",
       "    <tr style=\"text-align: right;\">\n",
       "      <th></th>\n",
       "      <th>attribution</th>\n",
       "      <th>averageRating</th>\n",
       "      <th>category</th>\n",
       "      <th>columns</th>\n",
       "      <th>createdAt</th>\n",
       "      <th>description</th>\n",
       "      <th>displayType</th>\n",
       "      <th>downloadCount</th>\n",
       "      <th>flags</th>\n",
       "      <th>grants</th>\n",
       "      <th>...</th>\n",
       "      <th>rowClass</th>\n",
       "      <th>rowsUpdatedAt</th>\n",
       "      <th>rowsUpdatedBy</th>\n",
       "      <th>tableAuthor</th>\n",
       "      <th>tableId</th>\n",
       "      <th>tags</th>\n",
       "      <th>totalTimesRated</th>\n",
       "      <th>viewCount</th>\n",
       "      <th>viewLastModified</th>\n",
       "      <th>viewType</th>\n",
       "    </tr>\n",
       "  </thead>\n",
       "  <tbody>\n",
       "    <tr>\n",
       "      <th>0</th>\n",
       "      <td>Los Angeles World Airports</td>\n",
       "      <td>0</td>\n",
       "      <td>A Prosperous City</td>\n",
       "      <td>[{'position': 1, 'format': {}, 'tableColumnId'...</td>\n",
       "      <td>1401379158</td>\n",
       "      <td>Number of Flights That Occurred at the Airport</td>\n",
       "      <td>table</td>\n",
       "      <td>601514</td>\n",
       "      <td>[default, restorable, restorePossibleForType]</td>\n",
       "      <td>[{'flags': ['public'], 'type': 'viewer', 'inhe...</td>\n",
       "      <td>...</td>\n",
       "      <td></td>\n",
       "      <td>1557932721</td>\n",
       "      <td>gudt-ccne</td>\n",
       "      <td>{'profileImageUrlLarge': '/api/users/gudt-ccne...</td>\n",
       "      <td>1598744</td>\n",
       "      <td>[lax, airport, terminal, flight, carrier]</td>\n",
       "      <td>0</td>\n",
       "      <td>736</td>\n",
       "      <td>1511966578</td>\n",
       "      <td>tabular</td>\n",
       "    </tr>\n",
       "  </tbody>\n",
       "</table>\n",
       "<p>1 rows × 39 columns</p>\n",
       "</div>"
      ],
      "text/plain": [
       "                  attribution  averageRating           category  \\\n",
       "0  Los Angeles World Airports              0  A Prosperous City   \n",
       "\n",
       "                                             columns   createdAt  \\\n",
       "0  [{'position': 1, 'format': {}, 'tableColumnId'...  1401379158   \n",
       "\n",
       "                                      description displayType  downloadCount  \\\n",
       "0  Number of Flights That Occurred at the Airport       table         601514   \n",
       "\n",
       "                                           flags  \\\n",
       "0  [default, restorable, restorePossibleForType]   \n",
       "\n",
       "                                              grants    ...     rowClass  \\\n",
       "0  [{'flags': ['public'], 'type': 'viewer', 'inhe...    ...                \n",
       "\n",
       "   rowsUpdatedAt rowsUpdatedBy  \\\n",
       "0     1557932721     gudt-ccne   \n",
       "\n",
       "                                         tableAuthor  tableId  \\\n",
       "0  {'profileImageUrlLarge': '/api/users/gudt-ccne...  1598744   \n",
       "\n",
       "                                        tags totalTimesRated viewCount  \\\n",
       "0  [lax, airport, terminal, flight, carrier]               0       736   \n",
       "\n",
       "   viewLastModified  viewType  \n",
       "0        1511966578   tabular  \n",
       "\n",
       "[1 rows x 39 columns]"
      ]
     },
     "execution_count": 3,
     "metadata": {},
     "output_type": "execute_result"
    }
   ],
   "source": [
    "raw_data.head()"
   ]
  },
  {
   "cell_type": "code",
   "execution_count": 19,
   "metadata": {},
   "outputs": [
    {
     "data": {
      "text/html": [
       "<div>\n",
       "<style scoped>\n",
       "    .dataframe tbody tr th:only-of-type {\n",
       "        vertical-align: middle;\n",
       "    }\n",
       "\n",
       "    .dataframe tbody tr th {\n",
       "        vertical-align: top;\n",
       "    }\n",
       "\n",
       "    .dataframe thead th {\n",
       "        text-align: right;\n",
       "    }\n",
       "</style>\n",
       "<table border=\"1\" class=\"dataframe\">\n",
       "  <thead>\n",
       "    <tr style=\"text-align: right;\">\n",
       "      <th></th>\n",
       "      <th>0</th>\n",
       "      <th>1</th>\n",
       "      <th>2</th>\n",
       "    </tr>\n",
       "  </thead>\n",
       "  <tbody>\n",
       "    <tr>\n",
       "      <th>0</th>\n",
       "      <td>default</td>\n",
       "      <td>restorable</td>\n",
       "      <td>restorePossibleForType</td>\n",
       "    </tr>\n",
       "  </tbody>\n",
       "</table>\n",
       "</div>"
      ],
      "text/plain": [
       "         0           1                       2\n",
       "0  default  restorable  restorePossibleForType"
      ]
     },
     "execution_count": 19,
     "metadata": {},
     "output_type": "execute_result"
    }
   ],
   "source": [
    "raw_data.flags.apply(pd.Series)"
   ]
  },
  {
   "cell_type": "code",
   "execution_count": 20,
   "metadata": {},
   "outputs": [],
   "source": [
    "df2 = raw_data.flags.apply(pd.Series)"
   ]
  },
  {
   "cell_type": "code",
   "execution_count": 21,
   "metadata": {},
   "outputs": [
    {
     "data": {
      "text/html": [
       "<div>\n",
       "<style scoped>\n",
       "    .dataframe tbody tr th:only-of-type {\n",
       "        vertical-align: middle;\n",
       "    }\n",
       "\n",
       "    .dataframe tbody tr th {\n",
       "        vertical-align: top;\n",
       "    }\n",
       "\n",
       "    .dataframe thead th {\n",
       "        text-align: right;\n",
       "    }\n",
       "</style>\n",
       "<table border=\"1\" class=\"dataframe\">\n",
       "  <thead>\n",
       "    <tr style=\"text-align: right;\">\n",
       "      <th></th>\n",
       "      <th>0</th>\n",
       "      <th>1</th>\n",
       "      <th>2</th>\n",
       "    </tr>\n",
       "  </thead>\n",
       "  <tbody>\n",
       "    <tr>\n",
       "      <th>0</th>\n",
       "      <td>default</td>\n",
       "      <td>restorable</td>\n",
       "      <td>restorePossibleForType</td>\n",
       "    </tr>\n",
       "  </tbody>\n",
       "</table>\n",
       "</div>"
      ],
      "text/plain": [
       "         0           1                       2\n",
       "0  default  restorable  restorePossibleForType"
      ]
     },
     "execution_count": 21,
     "metadata": {},
     "output_type": "execute_result"
    }
   ],
   "source": [
    "df2.head()"
   ]
  },
  {
   "cell_type": "code",
   "execution_count": 23,
   "metadata": {},
   "outputs": [],
   "source": [
    "pd4 = raw_data.grants.apply(pd.Series)"
   ]
  },
  {
   "cell_type": "code",
   "execution_count": 24,
   "metadata": {},
   "outputs": [
    {
     "data": {
      "text/html": [
       "<div>\n",
       "<style scoped>\n",
       "    .dataframe tbody tr th:only-of-type {\n",
       "        vertical-align: middle;\n",
       "    }\n",
       "\n",
       "    .dataframe tbody tr th {\n",
       "        vertical-align: top;\n",
       "    }\n",
       "\n",
       "    .dataframe thead th {\n",
       "        text-align: right;\n",
       "    }\n",
       "</style>\n",
       "<table border=\"1\" class=\"dataframe\">\n",
       "  <thead>\n",
       "    <tr style=\"text-align: right;\">\n",
       "      <th></th>\n",
       "      <th>0</th>\n",
       "    </tr>\n",
       "  </thead>\n",
       "  <tbody>\n",
       "    <tr>\n",
       "      <th>0</th>\n",
       "      <td>{'flags': ['public'], 'type': 'viewer', 'inher...</td>\n",
       "    </tr>\n",
       "  </tbody>\n",
       "</table>\n",
       "</div>"
      ],
      "text/plain": [
       "                                                   0\n",
       "0  {'flags': ['public'], 'type': 'viewer', 'inher..."
      ]
     },
     "execution_count": 24,
     "metadata": {},
     "output_type": "execute_result"
    }
   ],
   "source": [
    "pd4.head()"
   ]
  },
  {
   "cell_type": "code",
   "execution_count": 25,
   "metadata": {},
   "outputs": [
    {
     "data": {
      "text/html": [
       "<div>\n",
       "<style scoped>\n",
       "    .dataframe tbody tr th:only-of-type {\n",
       "        vertical-align: middle;\n",
       "    }\n",
       "\n",
       "    .dataframe tbody tr th {\n",
       "        vertical-align: top;\n",
       "    }\n",
       "\n",
       "    .dataframe thead th {\n",
       "        text-align: right;\n",
       "    }\n",
       "</style>\n",
       "<table border=\"1\" class=\"dataframe\">\n",
       "  <thead>\n",
       "    <tr style=\"text-align: right;\">\n",
       "      <th></th>\n",
       "      <th>0</th>\n",
       "    </tr>\n",
       "  </thead>\n",
       "  <tbody>\n",
       "    <tr>\n",
       "      <th>0</th>\n",
       "      <td>{'flags': ['public'], 'type': 'viewer', 'inher...</td>\n",
       "    </tr>\n",
       "  </tbody>\n",
       "</table>\n",
       "</div>"
      ],
      "text/plain": [
       "                                                   0\n",
       "0  {'flags': ['public'], 'type': 'viewer', 'inher..."
      ]
     },
     "execution_count": 25,
     "metadata": {},
     "output_type": "execute_result"
    }
   ],
   "source": [
    "pd4.apply(pd.Series)"
   ]
  },
  {
   "cell_type": "code",
   "execution_count": 26,
   "metadata": {},
   "outputs": [
    {
     "name": "stdout",
     "output_type": "stream",
     "text": [
      "                                                   0\n",
      "0  {'flags': ['public'], 'type': 'viewer', 'inher...\n"
     ]
    }
   ],
   "source": [
    "print(pd4)"
   ]
  },
  {
   "cell_type": "code",
   "execution_count": 4,
   "metadata": {},
   "outputs": [
    {
     "name": "stdout",
     "output_type": "stream",
     "text": [
      "[[{'position': 1, 'format': {}, 'tableColumnId': 19995493, 'renderTypeName': 'calendar_date', 'dataTypeName': 'calendar_date', 'name': 'DataExtractDate', 'id': 150436848, 'cachedContents': {'cardinality': '60', 'largest': '2019-05-15T08:00:42.000', 'not_null': '1686', 'top': [{'count': '1166', 'item': '2014-05-01T00:00:00.000'}, {'count': '23', 'item': '2014-07-18T00:00:00.000'}, {'count': '14', 'item': '2017-04-15T08:01:01.000'}, {'count': '12', 'item': '2014-11-15T08:00:12.000'}, {'count': '12', 'item': '2014-12-15T08:00:10.000'}, {'count': '12', 'item': '2015-01-15T08:00:16.000'}, {'count': '11', 'item': '2014-09-15T07:00:09.000'}, {'count': '11', 'item': '2014-10-15T08:00:09.000'}, {'count': '11', 'item': '2014-08-15T09:39:18.000'}, {'count': '10', 'item': '2017-12-15T08:00:40.000'}, {'count': '10', 'item': '2015-10-15T08:00:09.000'}, {'count': '10', 'item': '2015-08-15T08:00:09.000'}, {'count': '10', 'item': '2016-02-15T08:00:12.000'}, {'count': '10', 'item': '2015-05-15T08:00:08.000'}, {'count': '10', 'item': '2015-02-15T08:00:17.000'}, {'count': '10', 'item': '2016-04-15T08:00:57.000'}, {'count': '10', 'item': '2016-05-15T08:00:52.000'}, {'count': '10', 'item': '2015-06-15T08:00:11.000'}, {'count': '10', 'item': '2015-03-16T08:39:41.000'}, {'count': '10', 'item': '2016-03-15T08:01:13.000'}], 'smallest': '2014-05-01T00:00:00.000', 'null': '0', 'non_null': 1672}, 'width': 280, 'fieldName': 'dataextractdate'}, {'position': 2, 'format': {}, 'tableColumnId': 19995494, 'renderTypeName': 'calendar_date', 'dataTypeName': 'calendar_date', 'name': 'ReportPeriod', 'id': 150436849, 'cachedContents': {'cardinality': '159', 'largest': '2019-03-01T00:00:00.000', 'not_null': '1686', 'top': [{'count': '16', 'item': '2017-01-01T00:00:00.000'}, {'count': '12', 'item': '2006-11-01T00:00:00.000'}, {'count': '12', 'item': '2009-04-01T00:00:00.000'}, {'count': '12', 'item': '2014-03-01T00:00:00.000'}, {'count': '12', 'item': '2010-05-01T00:00:00.000'}, {'count': '12', 'item': '2009-09-01T00:00:00.000'}, {'count': '12', 'item': '2014-10-01T00:00:00.000'}, {'count': '12', 'item': '2012-06-01T00:00:00.000'}, {'count': '12', 'item': '2012-04-01T00:00:00.000'}, {'count': '12', 'item': '2012-05-01T00:00:00.000'}, {'count': '12', 'item': '2009-11-01T00:00:00.000'}, {'count': '12', 'item': '2009-06-01T00:00:00.000'}, {'count': '12', 'item': '2010-02-01T00:00:00.000'}, {'count': '12', 'item': '2013-11-01T00:00:00.000'}, {'count': '12', 'item': '2007-01-01T00:00:00.000'}, {'count': '12', 'item': '2010-06-01T00:00:00.000'}, {'count': '12', 'item': '2006-02-01T00:00:00.000'}, {'count': '12', 'item': '2014-02-01T00:00:00.000'}, {'count': '12', 'item': '2010-03-01T00:00:00.000'}, {'count': '12', 'item': '2008-02-01T00:00:00.000'}], 'smallest': '2006-01-01T00:00:00.000', 'null': '0', 'non_null': 1672}, 'width': 244, 'fieldName': 'reportperiod'}, {'position': 3, 'format': {}, 'tableColumnId': 19995495, 'renderTypeName': 'text', 'dataTypeName': 'text', 'name': 'FlightType', 'id': 150436850, 'cachedContents': {'cardinality': '3', 'largest': 'Scheduled', 'not_null': '1686', 'top': [{'count': '640', 'item': 'Scheduled'}, {'count': '588', 'item': 'Charter'}, {'count': '458', 'item': 'Commuter'}], 'smallest': 'Charter', 'null': '0', 'non_null': 1672}, 'width': 220, 'fieldName': 'flighttype'}, {'position': 4, 'format': {}, 'tableColumnId': 19995496, 'renderTypeName': 'text', 'dataTypeName': 'text', 'name': 'Arrival_Departure', 'id': 150436851, 'cachedContents': {'cardinality': '2', 'largest': 'Departure', 'not_null': '1686', 'top': [{'count': '860', 'item': 'Arrival'}, {'count': '826', 'item': 'Departure'}], 'smallest': 'Arrival', 'null': '0', 'non_null': 1672}, 'width': 304, 'fieldName': 'arrival_departure'}, {'position': 5, 'format': {}, 'tableColumnId': 19995497, 'renderTypeName': 'text', 'dataTypeName': 'text', 'name': 'Domestic_International', 'id': 150436852, 'cachedContents': {'cardinality': '2', 'largest': 'International', 'not_null': '1686', 'top': [{'count': '884', 'item': 'Domestic'}, {'count': '802', 'item': 'International'}], 'smallest': 'Domestic', 'null': '0', 'non_null': 1672}, 'width': 364, 'fieldName': 'domestic_international'}, {'position': 6, 'format': {}, 'tableColumnId': 19995498, 'renderTypeName': 'number', 'dataTypeName': 'number', 'name': 'FlightOpsCount', 'id': 150436853, 'cachedContents': {'cardinality': '827', 'largest': '22989', 'not_null': '1686', 'top': [{'count': '55', 'item': '1'}, {'count': '48', 'item': '3'}, {'count': '45', 'item': '2'}, {'count': '32', 'item': '4'}, {'count': '30', 'item': '6'}, {'count': '28', 'item': '5'}, {'count': '23', 'item': '7'}, {'count': '21', 'item': '31'}, {'count': '19', 'item': '8'}, {'count': '19', 'item': '16'}, {'count': '18', 'item': '62'}, {'count': '18', 'item': '60'}, {'count': '18', 'item': '93'}, {'count': '17', 'item': '9'}, {'count': '17', 'item': '10'}, {'count': '16', 'item': '11'}, {'count': '16', 'item': '30'}, {'count': '15', 'item': '12'}, {'count': '13', 'item': '24'}, {'count': '13', 'item': '13'}], 'smallest': '0', 'non_null': 1672, 'null': '0', 'sum': '7584442', 'average': '4536.149521531100'}, 'width': 268, 'fieldName': 'flightopscount'}]]\n"
     ]
    }
   ],
   "source": [
    "# create al list from a column in a dataframe\n",
    "dfList = list(raw_data['columns'])\n",
    "print(dfList)"
   ]
  },
  {
   "cell_type": "markdown",
   "metadata": {},
   "source": [
    "check deze url voor unpacking van bovenstaande: https://teamtreehouse.com/community/unpacking-challenge-how-do-you-unpack-within-a-list-of-dictionaries"
   ]
  },
  {
   "cell_type": "code",
   "execution_count": null,
   "metadata": {},
   "outputs": [],
   "source": []
  }
 ],
 "metadata": {
  "kernelspec": {
   "display_name": "Python 3",
   "language": "python",
   "name": "python3"
  },
  "language_info": {
   "codemirror_mode": {
    "name": "ipython",
    "version": 3
   },
   "file_extension": ".py",
   "mimetype": "text/x-python",
   "name": "python",
   "nbconvert_exporter": "python",
   "pygments_lexer": "ipython3",
   "version": "3.7.1"
  }
 },
 "nbformat": 4,
 "nbformat_minor": 2
}
